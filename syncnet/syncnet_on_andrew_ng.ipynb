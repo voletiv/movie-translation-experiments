{
 "cells": [
  {
   "cell_type": "markdown",
   "metadata": {},
   "source": [
    "# Syncnet DEMO\n",
    "\n",
    "https://github.com/voletiv/syncnet-in-keras/\n",
    "\n",
    "1. Given a video (*.mp4), convert to proper input format to the Syncnet lip & audio models\n",
    "2. Load the Syncnet lip and audio models\n",
    "3. Calculate lip-video and audio embeddings using Syncnet\n",
    "4. Calculate Euclidian distance between the lip and audio embeddings to check if video/audio are in sync"
   ]
  },
  {
   "cell_type": "code",
   "execution_count": 51,
   "metadata": {},
   "outputs": [],
   "source": [
    "import cv2\n",
    "# import dlib\n",
    "import imageio\n",
    "import matplotlib.pyplot as plt\n",
    "import numpy as np\n",
    "import os\n",
    "import scipy.io.wavfile as wav\n",
    "import skimage.color\n",
    "import skimage.transform\n",
    "import speechpy\n",
    "import tqdm"
   ]
  },
  {
   "cell_type": "code",
   "execution_count": 75,
   "metadata": {},
   "outputs": [],
   "source": [
    "import sys\n",
    "sys.path.append('/home/voleti.vikram/syncnet-in-keras/')\n",
    "\n",
    "# del sys.modules['syncnet_params']\n",
    "# del sys.modules['syncnet_functions']\n",
    "import syncnet_params\n",
    "from syncnet_functions import load_pretrained_syncnet_model"
   ]
  },
  {
   "cell_type": "code",
   "execution_count": 4,
   "metadata": {},
   "outputs": [],
   "source": [
    "import sys\n",
    "\n",
    "sys.path.append('../')\n",
    "import utils\n",
    "\n",
    "# del sys.modules['morph_video_with_new_lip_landmarks']\n",
    "sys.path.append('../andrew_ng/')\n",
    "from morph_video_with_new_lip_landmarks import read_video_landmarks"
   ]
  },
  {
   "cell_type": "markdown",
   "metadata": {},
   "source": [
    "# FUNCTIONS"
   ]
  },
  {
   "cell_type": "markdown",
   "metadata": {},
   "source": [
    "## get_syncnet_lip_model_input"
   ]
  },
  {
   "cell_type": "code",
   "execution_count": 96,
   "metadata": {},
   "outputs": [],
   "source": [
    "def interpolate_1D(y, rate_old, rate_new):\n",
    "    x = np.arange(len(y))\n",
    "    x_new = np.arange(0, len(y),\n",
    "                      (len(y) - 1)/(len(y)/rate_old*rate_new - 1))\n",
    "    x_new[-1] = x[-1]\n",
    "    f = interpolate.interp1d(x, y)\n",
    "    y_new = f(x_new)\n",
    "    return y_new\n",
    "\n",
    "\n",
    "def interpolate_landmarks_to_new_fps(landmarks_in_frames, video_fps_old, video_fps_new):\n",
    "    x = np.arange(len(landmarks_in_frames))\n",
    "    x_new = np.arange(0, len(landmarks_in_frames),\n",
    "                      (len(landmarks_in_frames) - 1)/(len(landmarks_in_frames)/video_fps_old*video_fps_new - 1))\n",
    "    x_new[-1] = x[-1]\n",
    "    landmarks_in_frames_new = np.zeros((len(x_new), *landmarks_in_frames.shape[1:]))\n",
    "    for lm in range(68):\n",
    "        for d in range(2):\n",
    "            y = landmarks_in_frames[:, lm, d]\n",
    "            f = interpolate.interp1d(x, y)\n",
    "            y_new = f(x_new)\n",
    "            landmarks_in_frames_new[:, lm, d] = y_new\n",
    "    return landmarks_in_frames_new\n",
    "\n",
    "\n",
    "def convert_video_fps(video_file_name, required_fps=25, converted_video_file_name='/tmp/video.mp4'):\n",
    "    cmd = \"ffmpeg -i {} -r {} -y {}\".format(video_file_name, str(int(required_fps)), converted_video_file_name)\n",
    "    os.system(cmd)\n",
    "\n",
    "\n",
    "def get_syncnet_lip_model_input(video_file_name):\n",
    "\n",
    "    # EXAMPLE video_file_name = \"/home/voleti.vikram/ANDREW_NG/videos/CV_02_C4W1L02_000006_to_000013/CV_02_C4W1L02_000006_to_000013_pauline_english_dub.mp4\"\n",
    "\n",
    "    # Video\n",
    "    video_frames = imageio.get_reader(video_file_name)\n",
    "    video_fps = video_frames.get_meta_data()['fps']\n",
    "    if video_fps != syncnet_params.SYNCNET_VIDEO_FPS:\n",
    "        convert_video_fps(video_file_name, required_fps=syncnet_params.SYNCNET_VIDEO_FPS, converted_video_file_name='/tmp/video.mp4')\n",
    "        video_frames = imageio.get_reader('/tmp/video.mp4')\n",
    "\n",
    "    # Landmarks\n",
    "    landmarks_in_frames, frames_with_no_landmarks = read_video_landmarks(video_file_name=video_file_name, video_fps=video_fps)\n",
    "    if video_fps != syncnet_params.SYNCNET_VIDEO_FPS:\n",
    "        landmarks_in_frames = interpolate_landmarks_to_new_fps(landmarks_in_frames, video_fps, syncnet_params.SYNCNET_VIDEO_FPS)\n",
    "        frames_with_no_landmarks = np.round(interpolate_1D(np.array(frames_with_no_landmarks),\n",
    "                                                            video_fps, syncnet_params.SYNCNET_VIDEO_FPS)).astype(int)\n",
    "\n",
    "    lip_model_input = []\n",
    "    five_mouths = []\n",
    "    consider_these_frames = []\n",
    "    \n",
    "    # Read frames from the video\n",
    "    for frame, landmarks_in_frame, no_face_in_frame in zip(video_frames, landmarks_in_frames, frames_with_no_landmarks):\n",
    "\n",
    "        if no_face_in_frame:\n",
    "            five_mouths = []\n",
    "            consider_these_frames.append(0)\n",
    "        \n",
    "        else:\n",
    "\n",
    "            # Extract face from frame\n",
    "            face_rect = utils.make_rect_shape_square([np.min(landmarks_in_frame[:, 0]), np.min(landmarks_in_frame[:, 1]),\n",
    "                 np.max(landmarks_in_frame[:, 0]), np.max(landmarks_in_frame[:, 1])])\n",
    "\n",
    "            # Extract mouth from frame\n",
    "            mouth_rect = utils.make_rect_shape_square([np.min(landmarks_in_frame[48:68, 0]), np.min(landmarks_in_frame[48:68, 1]),\n",
    "                          np.max(landmarks_in_frame[48:68, 0]), np.max(landmarks_in_frame[48:68, 1])])\n",
    "\n",
    "            # Calculate scale to expand mouth rect to 0.6 times the face width\n",
    "            scale = (face_rect[2] - face_rect[0])*0.6/(mouth_rect[2] - mouth_rect[0])\n",
    "\n",
    "            # Expand mouth rect\n",
    "            mouth_rect_exp = utils.expand_rect(mouth_rect, scale=scale, frame_shape=(frame.shape[0], frame.shape[1]))\n",
    "\n",
    "            # Extract mouth from frame\n",
    "            mouth = frame[mouth_rect_exp[1]:mouth_rect_exp[3], mouth_rect_exp[0]:mouth_rect_exp[2]]\n",
    "\n",
    "            # Convert to grayscale, resize to syncnet input shape, subtract 110\n",
    "            mouth = skimage.transform.resize(skimage.color.rgb2gray(mouth),\n",
    "                                     (syncnet_params.MOUTH_H, syncnet_params.MOUTH_W)) * 255. - 110.\n",
    "\n",
    "            if len(five_mouths) == syncnet_params.SYNCNET_VIDEO_CHANNELS:\n",
    "                five_mouths = five_mouths[1:]\n",
    "\n",
    "            five_mouths.append(mouth)\n",
    "            \n",
    "            if len(five_mouths) == syncnet_params.SYNCNET_VIDEO_CHANNELS:\n",
    "                lip_model_input.append(np.stack(five_mouths, axis=-1))\n",
    "                consider_these_frames.append(1)\n",
    "            else:\n",
    "                consider_these_frames.append(0)\n",
    "\n",
    "    return np.array(lip_model_input), consider_these_frames"
   ]
  },
  {
   "cell_type": "markdown",
   "metadata": {},
   "source": [
    "## get_syncnet_audio_model_input"
   ]
  },
  {
   "cell_type": "code",
   "execution_count": 113,
   "metadata": {},
   "outputs": [],
   "source": [
    "def extract_syncnet_mfcc(wav_file, consider_these_frames=None, verbose=False):\n",
    "    \"\"\"To extract mfcc features of audio clips 0.2 seconds in length each,\n",
    "    i.e. of 20 MFCC features in each clip (acc. to syncnet paper)\n",
    "    Output mfcc_clips shape === (N, 12, 20, 1),\n",
    "    where N = len(mfcc_features) // 20\n",
    "    \"\"\"\n",
    "\n",
    "    rate, sig = wav.read(wav_file)\n",
    "    if verbose:\n",
    "        print(\"Sig length: {}, sample_rate: {}\".format(len(sig), rate))\n",
    "\n",
    "    try:\n",
    "        mfcc_features = speechpy.feature.mfcc(sig, sampling_frequency=rate, frame_length=0.010, frame_stride=0.010)\n",
    "    except IndexError:\n",
    "        raise ValueError(\"ERROR: Index error occurred while extracting mfcc\")\n",
    "\n",
    "    if verbose:\n",
    "        print(\"mfcc_features shape:\", mfcc_features.shape)\n",
    "\n",
    "    # Don't consider the first MFCC feature, only consider the next 12 (Checked in syncnet_demo.m)\n",
    "    # Also, only consider syncnet_params.AUDIO_TIME_STEPS*number_of_audio_clips features\n",
    "    mfcc_features = mfcc_features[:, 1:]\n",
    "\n",
    "    # Take overlapping windows with stride length of 1 frame = 0.2/5 = .04 = 4 audio frames\n",
    "    mfcc_features_more = []\n",
    "    for i in range(0, len(mfcc_features)-syncnet_params.AUDIO_TIME_STEPS, 4):\n",
    "        mfcc_features_more.append(mfcc_features[i:i+20])\n",
    "    mfcc_features = np.array(mfcc_features_more)\n",
    "\n",
    "    # Filter mfcc_features based on landmark detection in video\n",
    "    if consider_these_frames is not None:\n",
    "        mfcc_features_filtered = []\n",
    "        for i in range(len(consider_these_frames)):\n",
    "            if consider_these_frames[i]:\n",
    "                mfcc_features_filtered.append(mfcc_features[i])\n",
    "        mfcc_features = np.array(mfcc_features_filtered)\n",
    "\n",
    "    # Reshape mfcc_features from (x, 12) to (x//20, 12, 20, 1)\n",
    "    mfcc_features = np.expand_dims(np.transpose(mfcc_features, (0, 2, 1)), axis=-1)\n",
    "\n",
    "    if verbose:\n",
    "        print(\"Final mfcc_features shape:\", mfcc_features.shape)\n",
    "\n",
    "    return mfcc_features\n",
    "\n",
    "\n",
    "def get_syncnet_audio_model_input(video, consider_these_frames=None):\n",
    "\n",
    "    # Convert video's audio to .wav file\n",
    "    audio_out = '/tmp/audio.wav'\n",
    "    command = \"ffmpeg -y -loglevel panic -i {} -acodec pcm_s16le -ac 1 -ar 16000 {}\".format(video, audio_out)\n",
    "    os.system(command)\n",
    "\n",
    "    # Extract proper input to syncnet_audio_model\n",
    "    return extract_syncnet_mfcc(audio_out, consider_these_frames)"
   ]
  },
  {
   "cell_type": "markdown",
   "metadata": {},
   "source": [
    "# 1. Given a video, convert to proper inputs to the Syncnet lip & audio models"
   ]
  },
  {
   "cell_type": "code",
   "execution_count": 88,
   "metadata": {},
   "outputs": [],
   "source": [
    "video_to_test = \"/home/voleti.vikram/ANDREW_NG/videos/CV_02_C4W1L02_000006_to_000013/CV_02_C4W1L02_000006_to_000013_pauline_english_dub.mp4\""
   ]
  },
  {
   "cell_type": "markdown",
   "metadata": {},
   "source": [
    "### Convert video to Syncnet lip model input"
   ]
  },
  {
   "cell_type": "code",
   "execution_count": 97,
   "metadata": {},
   "outputs": [
    {
     "name": "stderr",
     "output_type": "stream",
     "text": [
      "/users/voleti.vikram/.local/lib/python3.6/site-packages/skimage/transform/_warps.py:84: UserWarning: The default mode, 'constant', will be changed to 'reflect' in skimage 0.15.\n",
      "  warn(\"The default mode, 'constant', will be changed to 'reflect' in \"\n"
     ]
    },
    {
     "name": "stdout",
     "output_type": "stream",
     "text": [
      "(162, 112, 112, 5)\n"
     ]
    }
   ],
   "source": [
    "lip_input, consider_these_frames = get_syncnet_lip_model_input(video_to_test)\n",
    "print(lip_input.shape)"
   ]
  },
  {
   "cell_type": "markdown",
   "metadata": {},
   "source": [
    "### Convert video's audio to Syncnet audio model input"
   ]
  },
  {
   "cell_type": "code",
   "execution_count": 100,
   "metadata": {
    "scrolled": false
   },
   "outputs": [
    {
     "name": "stdout",
     "output_type": "stream",
     "text": [
      "(154, 12, 20, 1)\n"
     ]
    }
   ],
   "source": [
    "audio_input = get_syncnet_audio_model_input(video_to_test, consider_these_frames)\n",
    "print(audio_input.shape)"
   ]
  },
  {
   "cell_type": "markdown",
   "metadata": {},
   "source": [
    "# 2. Load the Syncnet lip and audio models"
   ]
  },
  {
   "cell_type": "code",
   "execution_count": 102,
   "metadata": {},
   "outputs": [],
   "source": [
    "version = 'v4'\n",
    "mode = 'both'\n",
    "syncnet_audio_model, syncnet_lip_model = load_pretrained_syncnet_model(version=version, mode=mode, verbose=False)"
   ]
  },
  {
   "cell_type": "code",
   "execution_count": null,
   "metadata": {},
   "outputs": [],
   "source": [
    "# print(syncnet_audio_model.summary())"
   ]
  },
  {
   "cell_type": "code",
   "execution_count": null,
   "metadata": {},
   "outputs": [],
   "source": [
    "# print(syncnet_lip_model.summary())"
   ]
  },
  {
   "cell_type": "markdown",
   "metadata": {},
   "source": [
    "# 3. Calculate lip-video and audio embeddings using Syncnet"
   ]
  },
  {
   "cell_type": "code",
   "execution_count": 103,
   "metadata": {},
   "outputs": [
    {
     "name": "stdout",
     "output_type": "stream",
     "text": [
      "(162, 128)\n"
     ]
    }
   ],
   "source": [
    "lip_embeddings = syncnet_lip_model.predict(lip_input)\n",
    "print(lip_embeddings.shape)"
   ]
  },
  {
   "cell_type": "code",
   "execution_count": 104,
   "metadata": {},
   "outputs": [
    {
     "name": "stdout",
     "output_type": "stream",
     "text": [
      "(154, 128)\n"
     ]
    }
   ],
   "source": [
    "audio_embeddings = syncnet_audio_model.predict(audio_input)\n",
    "print(audio_embeddings.shape)"
   ]
  },
  {
   "cell_type": "markdown",
   "metadata": {},
   "source": [
    "# 4. Calculate Euclidian distance between the lip and audio embeddings to check if video/audio are in sync\n",
    "\n",
    "1. Pass the audio frame through the audio model to get its encoding (a 128-dimensional feature), pass the video frame through the lip model to get its encoding (a 128-dimensional features)\n",
    "\n",
    "2. Check the euclidean distance between the audio encoding and the video encoding.\n",
    "\n",
    "3. If the distance is greater than a threshold, then it is said that audio frame and that video frame are not in sync."
   ]
  },
  {
   "cell_type": "code",
   "execution_count": 105,
   "metadata": {},
   "outputs": [],
   "source": [
    "def euclidian_distance(np_data_1, np_data_2): \n",
    "    dist = np.sqrt( np.sum(np.square(np_data_1 - np_data_2), axis=-1) )\n",
    "    return dist"
   ]
  },
  {
   "cell_type": "code",
   "execution_count": 106,
   "metadata": {},
   "outputs": [
    {
     "name": "stdout",
     "output_type": "stream",
     "text": [
      "[15.356259  14.741577  12.049586  11.563585  11.02644   10.556869\n",
      " 10.531931  10.381841  11.440622  11.78096   11.817664  11.621676\n",
      " 12.14562   12.589324  11.39152   11.206246  11.807522  12.712593\n",
      " 12.798426  12.073975  11.629025  10.503228   9.044234   9.025579\n",
      "  9.391743  10.613449  10.838661  11.094656  10.102023  11.553209\n",
      " 10.612234  10.067835   8.102941   9.613855  11.55113   11.585184\n",
      " 10.662365   9.652776  10.207064  10.16248   12.366514  12.827551\n",
      " 13.461684  12.872354  12.267968  11.475857  11.592371  11.316454\n",
      " 11.059078  11.751394  13.126397  12.47847   10.669464  10.296844\n",
      " 10.525674  10.946318  10.644928  11.292178  12.860302  12.476631\n",
      " 11.872382  12.654462  10.816132  10.370273  10.169142   9.089098\n",
      "  9.022907   9.244683   9.900251   9.909212  11.734487  11.638993\n",
      " 11.2878895 10.140364  10.200824   9.395961  10.175902  11.16187\n",
      " 11.672827  10.1642685  9.973168  10.46129   12.116207  13.006973\n",
      " 13.284137  12.308081  11.98013   11.854091  10.314296   9.338659\n",
      "  7.8301773  9.919473  11.714789  10.79074   10.15267   10.816999\n",
      " 12.099348  10.769079  10.719265  11.0792055 11.710554   9.74368\n",
      "  9.104005   9.779347   9.701      9.207816  10.022411   8.29466\n",
      "  8.724013   8.48126    8.950083  10.152036   9.656595  10.310307\n",
      " 11.153597  13.031184  11.084937  12.655502  12.714298  11.708802\n",
      " 11.303085  12.123653  11.777827  10.745051  10.213052  11.171532\n",
      " 10.533906  11.31392   11.981286  12.009066  12.855065  14.004548\n",
      " 14.12015   12.582982   9.623321  11.732867  14.551693  14.803203\n",
      " 11.856166   9.640695  10.918866  12.7381525 13.562024  12.812887\n",
      " 12.420484  11.730872  12.087653  11.764339  12.783369  11.884687\n",
      " 11.38282   11.830536  12.871415  14.320203 ]\n"
     ]
    }
   ],
   "source": [
    "number_of_samples = min(len(audio_embeddings), len(lip_embeddings))\n",
    "distances = euclidian_distance(audio_embeddings[:number_of_samples], lip_embeddings[:number_of_samples])\n",
    "print(distances)"
   ]
  },
  {
   "cell_type": "code",
   "execution_count": 107,
   "metadata": {},
   "outputs": [
    {
     "data": {
      "text/plain": [
       "11.242237"
      ]
     },
     "execution_count": 107,
     "metadata": {},
     "output_type": "execute_result"
    }
   ],
   "source": [
    "np.mean(distances)"
   ]
  },
  {
   "cell_type": "markdown",
   "metadata": {},
   "source": [
    "# FULL EXAMPLE"
   ]
  },
  {
   "cell_type": "code",
   "execution_count": 108,
   "metadata": {},
   "outputs": [
    {
     "name": "stderr",
     "output_type": "stream",
     "text": [
      "/users/voleti.vikram/.local/lib/python3.6/site-packages/skimage/transform/_warps.py:84: UserWarning: The default mode, 'constant', will be changed to 'reflect' in skimage 0.15.\n",
      "  warn(\"The default mode, 'constant', will be changed to 'reflect' in \"\n"
     ]
    },
    {
     "name": "stdout",
     "output_type": "stream",
     "text": [
      "11.719736\n"
     ]
    }
   ],
   "source": [
    "# # LOAD SYNCNET MODEL\n",
    "# version = 'v4'\n",
    "# mode = 'both'\n",
    "# syncnet_audio_model, syncnet_lip_model = load_pretrained_syncnet_model(version=version, mode=mode, verbose=False)\n",
    "\n",
    "# VIDEO\n",
    "video_to_test = \"/home/voleti.vikram/ANDREW_NG/videos/CV_02_C4W1L02_000006_to_000013/CV_02_C4W1L02_000006_to_000013_pauline_english_dp.mp4\"\n",
    "\n",
    "# LIP EMBEDDINGS\n",
    "lip_input, consider_these_frames = get_syncnet_lip_model_input(video_to_test)\n",
    "lip_embeddings = syncnet_lip_model.predict(lip_input)\n",
    "\n",
    "# AUDIO EMBEDDINGS\n",
    "audio_input = get_syncnet_audio_model_input(video_to_test, consider_these_frames)\n",
    "audio_embeddings = syncnet_audio_model.predict(audio_input)\n",
    "\n",
    "# DISTANCES\n",
    "number_of_samples = min(len(audio_embeddings), len(lip_embeddings))\n",
    "distances = euclidian_distance(audio_embeddings[:number_of_samples], lip_embeddings[:number_of_samples])\n",
    "d = np.mean(distances)\n",
    "print(d)"
   ]
  },
  {
   "cell_type": "markdown",
   "metadata": {},
   "source": [
    "# CONSOLIDATED FUNCTION"
   ]
  },
  {
   "cell_type": "code",
   "execution_count": 111,
   "metadata": {},
   "outputs": [],
   "source": [
    "def find_mean_dist_bw_audio_and_video(video, syncnet_lip_model=None, syncnet_audio_model=None,\n",
    "                                      version='v4', mode='both'):\n",
    "    # LOAD SYNCNET MODEL\n",
    "    if syncnet_audio_model is None and syncnet_lip_model is None:\n",
    "        syncnet_audio_model, syncnet_lip_model = load_pretrained_syncnet_model(version=version, mode=mode, verbose=False)\n",
    "    elif syncnet_lip_model is None:\n",
    "        syncnet_lip_model = load_pretrained_syncnet_model(version=version, mode='lip', verbose=False)\n",
    "    elif syncnet_audio_model is None:\n",
    "        syncnet_audio_model = load_pretrained_syncnet_model(version=version, mode='audio', verbose=False)\n",
    "\n",
    "    # VIDEO\n",
    "    # video_to_test = \"/home/voleti.vikram/ANDREW_NG/videos/CV_02_C4W1L02_000006_to_000013/CV_02_C4W1L02_000006_to_000013_pauline_english_dp.mp4\"\n",
    "\n",
    "    # LIP EMBEDDINGS\n",
    "    lip_input, consider_these_frames = get_syncnet_lip_model_input(video)\n",
    "    lip_embeddings = syncnet_lip_model.predict(lip_input)\n",
    "\n",
    "    # AUDIO EMBEDDINGS\n",
    "    audio_input = get_syncnet_audio_model_input(video, consider_these_frames)\n",
    "    audio_embeddings = syncnet_audio_model.predict(audio_input)\n",
    "\n",
    "    # DISTANCES\n",
    "    number_of_samples = min(len(audio_embeddings), len(lip_embeddings))\n",
    "    distances = euclidian_distance(audio_embeddings[:number_of_samples], lip_embeddings[:number_of_samples])\n",
    "    d = np.mean(distances)\n",
    "    print(d)"
   ]
  },
  {
   "cell_type": "code",
   "execution_count": 114,
   "metadata": {},
   "outputs": [
    {
     "name": "stderr",
     "output_type": "stream",
     "text": [
      "/users/voleti.vikram/.local/lib/python3.6/site-packages/skimage/transform/_warps.py:84: UserWarning: The default mode, 'constant', will be changed to 'reflect' in skimage 0.15.\n",
      "  warn(\"The default mode, 'constant', will be changed to 'reflect' in \"\n"
     ]
    },
    {
     "name": "stdout",
     "output_type": "stream",
     "text": [
      "11.704552\n"
     ]
    }
   ],
   "source": [
    "video = \"/home/voleti.vikram/ANDREW_NG/videos/CV_02_C4W1L02_000006_to_000013/CV_02_C4W1L02_000006_to_000013_ma_00_dub.mp4\"\n",
    "find_mean_dist_bw_audio_and_video(video, syncnet_lip_model, syncnet_audio_model)"
   ]
  },
  {
   "cell_type": "code",
   "execution_count": 115,
   "metadata": {},
   "outputs": [
    {
     "name": "stderr",
     "output_type": "stream",
     "text": [
      "/users/voleti.vikram/.local/lib/python3.6/site-packages/skimage/transform/_warps.py:84: UserWarning: The default mode, 'constant', will be changed to 'reflect' in skimage 0.15.\n",
      "  warn(\"The default mode, 'constant', will be changed to 'reflect' in \"\n"
     ]
    },
    {
     "name": "stdout",
     "output_type": "stream",
     "text": [
      "12.109784\n"
     ]
    }
   ],
   "source": [
    "video = \"/home/voleti.vikram/ANDREW_NG/videos/CV_02_C4W1L02_000006_to_000013/CV_02_C4W1L02_000006_to_000013_ma_00_dp.mp4\"\n",
    "find_mean_dist_bw_audio_and_video(video, syncnet_lip_model, syncnet_audio_model)"
   ]
  },
  {
   "cell_type": "code",
   "execution_count": null,
   "metadata": {},
   "outputs": [],
   "source": []
  },
  {
   "cell_type": "code",
   "execution_count": null,
   "metadata": {},
   "outputs": [],
   "source": []
  },
  {
   "cell_type": "code",
   "execution_count": null,
   "metadata": {},
   "outputs": [],
   "source": []
  },
  {
   "cell_type": "code",
   "execution_count": null,
   "metadata": {},
   "outputs": [],
   "source": []
  },
  {
   "cell_type": "code",
   "execution_count": null,
   "metadata": {},
   "outputs": [],
   "source": []
  },
  {
   "cell_type": "markdown",
   "metadata": {},
   "source": [
    "# SCRATCHPAD"
   ]
  },
  {
   "cell_type": "code",
   "execution_count": 5,
   "metadata": {},
   "outputs": [],
   "source": [
    "video_file_name = \"/home/voleti.vikram/ANDREW_NG/videos/CV_02_C4W1L02_000006_to_000013/CV_02_C4W1L02_000006_to_000013_pauline_english_dub.mp4\""
   ]
  },
  {
   "cell_type": "code",
   "execution_count": 6,
   "metadata": {},
   "outputs": [
    {
     "name": "stdout",
     "output_type": "stream",
     "text": [
      "225 30.0\n"
     ]
    }
   ],
   "source": [
    "video_frames = imageio.get_reader(video_file_name)\n",
    "video_fps = video_frames.get_meta_data()['fps']\n",
    "print(len(video_frames), video_fps)"
   ]
  },
  {
   "cell_type": "code",
   "execution_count": 9,
   "metadata": {},
   "outputs": [
    {
     "data": {
      "text/plain": [
       "210"
      ]
     },
     "execution_count": 9,
     "metadata": {},
     "output_type": "execute_result"
    }
   ],
   "source": [
    "7*30"
   ]
  },
  {
   "cell_type": "code",
   "execution_count": 7,
   "metadata": {},
   "outputs": [
    {
     "name": "stdout",
     "output_type": "stream",
     "text": [
      "read_video_landmarks: read_from_landmarks_file for /home/voleti.vikram/ANDREW_NG/videos/CV_02_C4W1L02_000006_to_000013/CV_02_C4W1L02_000006_to_000013_pauline_english_dub.mp4\n",
      "read_video_landmarks: Found landmarks file /shared/fusor/home/voleti.vikram/ANDREW_NG/landmarks_in_frames_person/CV_02.C4W1L02_Edge_Detection_Examples_landmarks_in_frames_andrew_ng.txt\n",
      "000006_to_00001 0 0 6 180\n",
      "start_frame_number 180\n",
      "required_number 211\n",
      "frame_number 180 ; landmarks_frame_number 192\n",
      "frame_number 181 ; landmarks_frame_number 192\n",
      "frame_number 182 ; landmarks_frame_number 192\n",
      "frame_number 183 ; landmarks_frame_number 192\n",
      "frame_number 184 ; landmarks_frame_number 192\n",
      "frame_number 185 ; landmarks_frame_number 192\n",
      "frame_number 186 ; landmarks_frame_number 192\n",
      "frame_number 187 ; landmarks_frame_number 192\n",
      "frame_number 188 ; landmarks_frame_number 192\n",
      "frame_number 189 ; landmarks_frame_number 192\n",
      "frame_number 190 ; landmarks_frame_number 192\n",
      "frame_number 191 ; landmarks_frame_number 192\n",
      "frame_number 192 ; landmarks_frame_number 192\n",
      "frame_number 193 ; landmarks_frame_number 193\n",
      "frame_number 194 ; landmarks_frame_number 194\n",
      "frame_number 195 ; landmarks_frame_number 195\n",
      "frame_number 196 ; landmarks_frame_number 196\n",
      "frame_number 197 ; landmarks_frame_number 197\n",
      "frame_number 198 ; landmarks_frame_number 198\n",
      "frame_number 199 ; landmarks_frame_number 199\n",
      "frame_number 200 ; landmarks_frame_number 200\n",
      "frame_number 201 ; landmarks_frame_number 201\n",
      "frame_number 202 ; landmarks_frame_number 202\n",
      "frame_number 203 ; landmarks_frame_number 203\n",
      "frame_number 204 ; landmarks_frame_number 204\n",
      "frame_number 205 ; landmarks_frame_number 205\n",
      "frame_number 206 ; landmarks_frame_number 206\n",
      "frame_number 207 ; landmarks_frame_number 207\n",
      "frame_number 208 ; landmarks_frame_number 208\n",
      "frame_number 209 ; landmarks_frame_number 209\n",
      "frame_number 210 ; landmarks_frame_number 210\n",
      "frame_number 211 ; landmarks_frame_number 211\n",
      "frame_number 212 ; landmarks_frame_number 212\n",
      "frame_number 213 ; landmarks_frame_number 213\n",
      "frame_number 214 ; landmarks_frame_number 214\n",
      "frame_number 215 ; landmarks_frame_number 215\n",
      "frame_number 216 ; landmarks_frame_number 216\n",
      "frame_number 217 ; landmarks_frame_number 217\n",
      "frame_number 218 ; landmarks_frame_number 218\n",
      "frame_number 219 ; landmarks_frame_number 219\n",
      "frame_number 220 ; landmarks_frame_number 220\n",
      "frame_number 221 ; landmarks_frame_number 221\n",
      "frame_number 222 ; landmarks_frame_number 222\n",
      "frame_number 223 ; landmarks_frame_number 223\n",
      "frame_number 224 ; landmarks_frame_number 224\n",
      "frame_number 225 ; landmarks_frame_number 225\n",
      "frame_number 226 ; landmarks_frame_number 226\n",
      "frame_number 227 ; landmarks_frame_number 227\n",
      "frame_number 228 ; landmarks_frame_number 228\n",
      "frame_number 229 ; landmarks_frame_number 229\n",
      "frame_number 230 ; landmarks_frame_number 230\n",
      "frame_number 231 ; landmarks_frame_number 231\n",
      "frame_number 232 ; landmarks_frame_number 232\n",
      "frame_number 233 ; landmarks_frame_number 233\n",
      "frame_number 234 ; landmarks_frame_number 234\n",
      "frame_number 235 ; landmarks_frame_number 235\n",
      "frame_number 236 ; landmarks_frame_number 236\n",
      "frame_number 237 ; landmarks_frame_number 237\n",
      "frame_number 238 ; landmarks_frame_number 238\n",
      "frame_number 239 ; landmarks_frame_number 239\n",
      "frame_number 240 ; landmarks_frame_number 240\n",
      "frame_number 241 ; landmarks_frame_number 241\n",
      "frame_number 242 ; landmarks_frame_number 242\n",
      "frame_number 243 ; landmarks_frame_number 243\n",
      "frame_number 244 ; landmarks_frame_number 244\n",
      "frame_number 245 ; landmarks_frame_number 245\n",
      "frame_number 246 ; landmarks_frame_number 246\n",
      "frame_number 247 ; landmarks_frame_number 247\n",
      "frame_number 248 ; landmarks_frame_number 248\n",
      "frame_number 249 ; landmarks_frame_number 249\n",
      "frame_number 250 ; landmarks_frame_number 250\n",
      "frame_number 251 ; landmarks_frame_number 251\n",
      "frame_number 252 ; landmarks_frame_number 252\n",
      "frame_number 253 ; landmarks_frame_number 253\n",
      "frame_number 254 ; landmarks_frame_number 254\n",
      "frame_number 255 ; landmarks_frame_number 255\n",
      "frame_number 256 ; landmarks_frame_number 256\n",
      "frame_number 257 ; landmarks_frame_number 257\n",
      "frame_number 258 ; landmarks_frame_number 258\n",
      "frame_number 259 ; landmarks_frame_number 259\n",
      "frame_number 260 ; landmarks_frame_number 260\n",
      "frame_number 261 ; landmarks_frame_number 261\n",
      "frame_number 262 ; landmarks_frame_number 262\n",
      "frame_number 263 ; landmarks_frame_number 263\n",
      "frame_number 264 ; landmarks_frame_number 264\n",
      "frame_number 265 ; landmarks_frame_number 265\n",
      "frame_number 266 ; landmarks_frame_number 266\n",
      "frame_number 267 ; landmarks_frame_number 267\n",
      "frame_number 268 ; landmarks_frame_number 268\n",
      "frame_number 269 ; landmarks_frame_number 269\n",
      "frame_number 270 ; landmarks_frame_number 270\n",
      "frame_number 271 ; landmarks_frame_number 271\n",
      "frame_number 272 ; landmarks_frame_number 272\n",
      "frame_number 273 ; landmarks_frame_number 273\n",
      "frame_number 274 ; landmarks_frame_number 274\n",
      "frame_number 275 ; landmarks_frame_number 275\n",
      "frame_number 276 ; landmarks_frame_number 276\n",
      "frame_number 277 ; landmarks_frame_number 277\n",
      "frame_number 278 ; landmarks_frame_number 278\n",
      "frame_number 279 ; landmarks_frame_number 279\n",
      "frame_number 280 ; landmarks_frame_number 280\n",
      "frame_number 281 ; landmarks_frame_number 281\n",
      "frame_number 282 ; landmarks_frame_number 282\n",
      "frame_number 283 ; landmarks_frame_number 283\n",
      "frame_number 284 ; landmarks_frame_number 284\n",
      "frame_number 285 ; landmarks_frame_number 285\n",
      "frame_number 286 ; landmarks_frame_number 286\n",
      "frame_number 287 ; landmarks_frame_number 287\n",
      "frame_number 288 ; landmarks_frame_number 288\n",
      "frame_number 289 ; landmarks_frame_number 289\n",
      "frame_number 290 ; landmarks_frame_number 290\n",
      "frame_number 291 ; landmarks_frame_number 291\n",
      "frame_number 292 ; landmarks_frame_number 292\n",
      "frame_number 293 ; landmarks_frame_number 293\n",
      "frame_number 294 ; landmarks_frame_number 294\n",
      "frame_number 295 ; landmarks_frame_number 295\n",
      "frame_number 296 ; landmarks_frame_number 296\n",
      "frame_number 297 ; landmarks_frame_number 297\n",
      "frame_number 298 ; landmarks_frame_number 298\n",
      "frame_number 299 ; landmarks_frame_number 299\n",
      "frame_number 300 ; landmarks_frame_number 300\n",
      "frame_number 301 ; landmarks_frame_number 301\n",
      "frame_number 302 ; landmarks_frame_number 302\n",
      "frame_number 303 ; landmarks_frame_number 303\n",
      "frame_number 304 ; landmarks_frame_number 304\n",
      "frame_number 305 ; landmarks_frame_number 305\n",
      "frame_number 306 ; landmarks_frame_number 306\n",
      "frame_number 307 ; landmarks_frame_number 307\n",
      "frame_number 308 ; landmarks_frame_number 308\n",
      "frame_number 309 ; landmarks_frame_number 309\n",
      "frame_number 310 ; landmarks_frame_number 310\n",
      "frame_number 311 ; landmarks_frame_number 311\n",
      "frame_number 312 ; landmarks_frame_number 312\n",
      "frame_number 313 ; landmarks_frame_number 313\n",
      "frame_number 314 ; landmarks_frame_number 314\n",
      "frame_number 315 ; landmarks_frame_number 315\n",
      "frame_number 316 ; landmarks_frame_number 316\n",
      "frame_number 317 ; landmarks_frame_number 317\n",
      "frame_number 318 ; landmarks_frame_number 318\n",
      "frame_number 319 ; landmarks_frame_number 319\n",
      "frame_number 320 ; landmarks_frame_number 320\n",
      "frame_number 321 ; landmarks_frame_number 321\n",
      "frame_number 322 ; landmarks_frame_number 322\n",
      "frame_number 323 ; landmarks_frame_number 323\n",
      "frame_number 324 ; landmarks_frame_number 324\n",
      "frame_number 325 ; landmarks_frame_number 325\n",
      "frame_number 326 ; landmarks_frame_number 326\n",
      "frame_number 327 ; landmarks_frame_number 327\n",
      "frame_number 328 ; landmarks_frame_number 328\n",
      "frame_number 329 ; landmarks_frame_number 329\n",
      "frame_number 330 ; landmarks_frame_number 330\n",
      "frame_number 331 ; landmarks_frame_number 331\n",
      "frame_number 332 ; landmarks_frame_number 332\n",
      "frame_number 333 ; landmarks_frame_number 333\n",
      "frame_number 334 ; landmarks_frame_number 334\n",
      "frame_number 335 ; landmarks_frame_number 335\n",
      "frame_number 336 ; landmarks_frame_number 336\n",
      "frame_number 337 ; landmarks_frame_number 337\n",
      "frame_number 338 ; landmarks_frame_number 338\n",
      "frame_number 339 ; landmarks_frame_number 339\n",
      "frame_number 340 ; landmarks_frame_number 340\n",
      "frame_number 341 ; landmarks_frame_number 341\n",
      "frame_number 342 ; landmarks_frame_number 342\n",
      "frame_number 343 ; landmarks_frame_number 343\n",
      "frame_number 344 ; landmarks_frame_number 344\n",
      "frame_number 345 ; landmarks_frame_number 345\n",
      "frame_number 346 ; landmarks_frame_number 346\n",
      "frame_number 347 ; landmarks_frame_number 347\n",
      "frame_number 348 ; landmarks_frame_number 348\n",
      "frame_number 349 ; landmarks_frame_number 349\n",
      "frame_number 350 ; landmarks_frame_number 350\n",
      "frame_number 351 ; landmarks_frame_number 351\n",
      "frame_number 352 ; landmarks_frame_number 352\n",
      "frame_number 353 ; landmarks_frame_number 353\n",
      "frame_number 354 ; landmarks_frame_number 354\n",
      "frame_number 355 ; landmarks_frame_number 355\n",
      "frame_number 356 ; landmarks_frame_number 356\n",
      "frame_number 357 ; landmarks_frame_number 357\n",
      "frame_number 358 ; landmarks_frame_number 358\n",
      "frame_number 359 ; landmarks_frame_number 359\n",
      "frame_number 360 ; landmarks_frame_number 360\n",
      "frame_number 361 ; landmarks_frame_number 361\n",
      "frame_number 362 ; landmarks_frame_number 362\n",
      "frame_number 363 ; landmarks_frame_number 363\n",
      "frame_number 364 ; landmarks_frame_number 364\n",
      "frame_number 365 ; landmarks_frame_number 365\n",
      "frame_number 366 ; landmarks_frame_number 366\n",
      "frame_number 367 ; landmarks_frame_number 367\n",
      "frame_number 368 ; landmarks_frame_number 368\n",
      "frame_number 369 ; landmarks_frame_number 369\n",
      "frame_number 370 ; landmarks_frame_number 370\n",
      "frame_number 371 ; landmarks_frame_number 371\n",
      "frame_number 372 ; landmarks_frame_number 372\n",
      "frame_number 373 ; landmarks_frame_number 373\n",
      "frame_number 374 ; landmarks_frame_number 374\n",
      "frame_number 375 ; landmarks_frame_number 375\n",
      "frame_number 376 ; landmarks_frame_number 376\n",
      "frame_number 377 ; landmarks_frame_number 377\n",
      "frame_number 378 ; landmarks_frame_number 378\n",
      "frame_number 379 ; landmarks_frame_number 379\n",
      "frame_number 380 ; landmarks_frame_number 380\n",
      "frame_number 381 ; landmarks_frame_number 381\n",
      "frame_number 382 ; landmarks_frame_number 382\n",
      "frame_number 383 ; landmarks_frame_number 383\n",
      "frame_number 384 ; landmarks_frame_number 384\n",
      "frame_number 385 ; landmarks_frame_number 385\n",
      "frame_number 386 ; landmarks_frame_number 386\n",
      "frame_number 387 ; landmarks_frame_number 387\n",
      "frame_number 388 ; landmarks_frame_number 388\n",
      "frame_number 389 ; landmarks_frame_number 389\n",
      "frame_number 390 ; landmarks_frame_number 390\n"
     ]
    },
    {
     "data": {
      "text/plain": [
       "(211, 211)"
      ]
     },
     "execution_count": 7,
     "metadata": {},
     "output_type": "execute_result"
    }
   ],
   "source": [
    "landmarks_in_frames, frames_with_no_landmarks = read_video_landmarks(video_file_name=video_file_name, video_fps=video_fps, verbose=True)\n",
    "len(landmarks_in_frames), len(frames_with_no_landmarks)"
   ]
  },
  {
   "cell_type": "code",
   "execution_count": 12,
   "metadata": {},
   "outputs": [
    {
     "name": "stdout",
     "output_type": "stream",
     "text": [
      "189 25.0\n"
     ]
    }
   ],
   "source": [
    "convert_video_fps(video_file_name, required_fps=syncnet_params.SYNCNET_VIDEO_FPS, converted_video_file_name='/tmp/video.mp4')\n",
    "video_frames = imageio.get_reader('/tmp/video.mp4')\n",
    "print(len(video_frames), video_frames.get_meta_data()['fps'])"
   ]
  },
  {
   "cell_type": "code",
   "execution_count": 13,
   "metadata": {},
   "outputs": [],
   "source": [
    "from scipy import interpolate"
   ]
  },
  {
   "cell_type": "code",
   "execution_count": 14,
   "metadata": {},
   "outputs": [
    {
     "data": {
      "text/plain": [
       "[<matplotlib.lines.Line2D at 0x7f65d3109748>]"
      ]
     },
     "execution_count": 14,
     "metadata": {},
     "output_type": "execute_result"
    },
    {
     "data": {
      "image/png": "[encoded data removed]",
      "text/plain": [
       "<Figure size 432x288 with 1 Axes>"
      ]
     },
     "metadata": {},
     "output_type": "display_data"
    }
   ],
   "source": [
    "x = np.arange(len(landmarks_in_frames))\n",
    "y = landmarks_in_frames[:, 0, 0]\n",
    "plt.plot(x, y)"
   ]
  },
  {
   "cell_type": "code",
   "execution_count": 26,
   "metadata": {},
   "outputs": [],
   "source": [
    "f = interpolate.interp1d(x, y)"
   ]
  },
  {
   "cell_type": "code",
   "execution_count": 46,
   "metadata": {},
   "outputs": [
    {
     "name": "stdout",
     "output_type": "stream",
     "text": [
      "[ 0.   1.2  2.4  3.6  4.8  6.   7.2  8.4  9.6 10.8 12.  13.2 14.4 15.6\n",
      " 16.8 18.  19.2 20.4 21.6 22.8 24.  25.2 26.4 27.6 28.8] 25\n"
     ]
    }
   ],
   "source": [
    "a = np.arange(0, 30, (30)/25)\n",
    "print(a, len(a))"
   ]
  },
  {
   "cell_type": "code",
   "execution_count": 60,
   "metadata": {
    "scrolled": true
   },
   "outputs": [
    {
     "name": "stdout",
     "output_type": "stream",
     "text": [
      "[  0.           1.20114395   2.40228789   3.60343184   4.80457579\n",
      "   6.00571973   7.20686368   8.40800763   9.60915157  10.81029552\n",
      "  12.01143947  13.21258341  14.41372736  15.61487131  16.81601525\n",
      "  18.0171592   19.21830315  20.41944709  21.62059104  22.82173499\n",
      "  24.02287893  25.22402288  26.42516683  27.62631077  28.82745472\n",
      "  30.02859867  31.22974261  32.43088656  33.63203051  34.83317445\n",
      "  36.0343184   37.23546235  38.43660629  39.63775024  40.83889418\n",
      "  42.04003813  43.24118208  44.44232602  45.64346997  46.84461392\n",
      "  48.04575786  49.24690181  50.44804576  51.6491897   52.85033365\n",
      "  54.0514776   55.25262154  56.45376549  57.65490944  58.85605338\n",
      "  60.05719733  61.25834128  62.45948522  63.66062917  64.86177312\n",
      "  66.06291706  67.26406101  68.46520496  69.6663489   70.86749285\n",
      "  72.0686368   73.26978074  74.47092469  75.67206864  76.87321258\n",
      "  78.07435653  79.27550048  80.47664442  81.67778837  82.87893232\n",
      "  84.08007626  85.28122021  86.48236416  87.6835081   88.88465205\n",
      "  90.085796    91.28693994  92.48808389  93.68922784  94.89037178\n",
      "  96.09151573  97.29265968  98.49380362  99.69494757 100.89609152\n",
      " 102.09723546 103.29837941 104.49952336 105.7006673  106.90181125\n",
      " 108.1029552  109.30409914 110.50524309 111.70638704 112.90753098\n",
      " 114.10867493 115.30981888 116.51096282 117.71210677 118.91325071\n",
      " 120.11439466 121.31553861 122.51668255 123.7178265  124.91897045\n",
      " 126.12011439 127.32125834 128.52240229 129.72354623 130.92469018\n",
      " 132.12583413 133.32697807 134.52812202 135.72926597 136.93040991\n",
      " 138.13155386 139.33269781 140.53384175 141.7349857  142.93612965\n",
      " 144.13727359 145.33841754 146.53956149 147.74070543 148.94184938\n",
      " 150.14299333 151.34413727 152.54528122 153.74642517 154.94756911\n",
      " 156.14871306 157.34985701 158.55100095 159.7521449  160.95328885\n",
      " 162.15443279 163.35557674 164.55672069 165.75786463 166.95900858\n",
      " 168.16015253 169.36129647 170.56244042 171.76358437 172.96472831\n",
      " 174.16587226 175.36701621 176.56816015 177.7693041  178.97044805\n",
      " 180.17159199 181.37273594 182.57387989 183.77502383 184.97616778\n",
      " 186.17731173 187.37845567 188.57959962 189.78074357 190.98188751\n",
      " 192.18303146 193.38417541 194.58531935 195.7864633  196.98760724\n",
      " 198.18875119 199.38989514 200.59103908 201.79218303 202.99332698\n",
      " 204.19447092 205.39561487 206.59675882 207.79790276 208.99904671\n",
      " 210.        ]\n"
     ]
    },
    {
     "data": {
      "text/plain": [
       "176"
      ]
     },
     "execution_count": 60,
     "metadata": {},
     "output_type": "execute_result"
    }
   ],
   "source": [
    "# Change fps from 30 to 25\n",
    "x_new = np.arange(0, len(landmarks_in_frames),\n",
    "                  (len(landmarks_in_frames) - 1)/(len(landmarks_in_frames)/video_fps*syncnet_params.SYNCNET_VIDEO_FPS - 1))\n",
    "x_new[-1] = x[-1]\n",
    "# print(x)\n",
    "print(x_new)\n",
    "len(x_new)"
   ]
  },
  {
   "cell_type": "code",
   "execution_count": 48,
   "metadata": {},
   "outputs": [],
   "source": [
    "y_new = f(x_new)"
   ]
  },
  {
   "cell_type": "code",
   "execution_count": 49,
   "metadata": {},
   "outputs": [
    {
     "data": {
      "text/plain": [
       "<matplotlib.collections.PathCollection at 0x7f65d30535c0>"
      ]
     },
     "execution_count": 49,
     "metadata": {},
     "output_type": "execute_result"
    },
    {
     "data": {
      "image/png": "[encoded data removed]",
      "text/plain": [
       "<Figure size 432x288 with 1 Axes>"
      ]
     },
     "metadata": {},
     "output_type": "display_data"
    }
   ],
   "source": [
    "plt.plot(x, y, '--', x_new, y_new, '-')\n",
    "plt.scatter(x_new, y_new)"
   ]
  },
  {
   "cell_type": "markdown",
   "metadata": {},
   "source": [
    "N-dimensional data"
   ]
  },
  {
   "cell_type": "code",
   "execution_count": 58,
   "metadata": {},
   "outputs": [],
   "source": [
    "def interpolate_landmarks_to_new_fps(landmarks_in_frames, video_fps_old, video_fps_new):\n",
    "    x = np.arange(len(landmarks_in_frames))\n",
    "    x_new = np.arange(0, len(landmarks_in_frames),\n",
    "                      (len(landmarks_in_frames) - 1)/(len(landmarks_in_frames)/video_fps_old*video_fps_new - 1))\n",
    "    x_new[-1] = x[-1]\n",
    "    landmarks_in_frames_new = np.zeros((len(x_new), *landmarks_in_frames.shape[1:]))\n",
    "    for lm in range(68):\n",
    "        for d in range(2):\n",
    "            y = landmarks_in_frames[:, lm, d]\n",
    "            f = interpolate.interp1d(x, y)\n",
    "            y_new = f(x_new)\n",
    "            landmarks_in_frames_new[:, lm, d] = y_new\n",
    "    return landmarks_in_frames_new"
   ]
  },
  {
   "cell_type": "code",
   "execution_count": 59,
   "metadata": {},
   "outputs": [],
   "source": [
    "landmarks_in_frames_new = interpolate_landmarks_to_new_fps(landmarks_in_frames, video_fps, syncnet_params.SYNCNET_VIDEO_FPS)"
   ]
  },
  {
   "cell_type": "code",
   "execution_count": 117,
   "metadata": {},
   "outputs": [],
   "source": [
    "for frame, landmarks_in_frame, no_face_in_frame in zip(video_frames, landmarks_in_frames, frames_with_no_landmarks):\n",
    "    if not no_face_in_frame:\n",
    "        break"
   ]
  },
  {
   "cell_type": "code",
   "execution_count": 21,
   "metadata": {},
   "outputs": [
    {
     "data": {
      "text/plain": [
       "<matplotlib.image.AxesImage at 0x7f613f65d8d0>"
      ]
     },
     "execution_count": 21,
     "metadata": {},
     "output_type": "execute_result"
    },
    {
     "data": {
      "image/png": "[encoded data removed]",
      "text/plain": [
       "<Figure size 432x288 with 1 Axes>"
      ]
     },
     "metadata": {},
     "output_type": "display_data"
    }
   ],
   "source": [
    "plt.imshow(frame)"
   ]
  },
  {
   "cell_type": "code",
   "execution_count": 36,
   "metadata": {},
   "outputs": [
    {
     "name": "stdout",
     "output_type": "stream",
     "text": [
      "[692, 184.0, 809.0, 301.0]\n",
      "[738.0, 252, 770.0, 284.0]\n",
      "[719, 233, 789, 303]\n"
     ]
    }
   ],
   "source": [
    "face_rect = utils.make_rect_shape_square([np.min(landmarks_in_frame[:, 0]), np.min(landmarks_in_frame[:, 1]),\n",
    "             np.max(landmarks_in_frame[:, 0]), np.max(landmarks_in_frame[:, 1])])\n",
    "\n",
    "mouth_rect = utils.make_rect_shape_square([np.min(landmarks_in_frame[48:68, 0]), np.min(landmarks_in_frame[48:68, 1]),\n",
    "              np.max(landmarks_in_frame[48:68, 0]), np.max(landmarks_in_frame[48:68, 1])])\n",
    "\n",
    "scale = (face_rect[2] - face_rect[0])*0.6/(mouth_rect[2] - mouth_rect[0])\n",
    "\n",
    "mouth_rect_exp = utils.expand_rect(mouth_rect, scale=scale, frame_shape=(frame.shape[0], frame.shape[1]))\n",
    "print(face_rect)\n",
    "print(mouth_rect)\n",
    "print(mouth_rect_exp)"
   ]
  },
  {
   "cell_type": "code",
   "execution_count": 55,
   "metadata": {},
   "outputs": [
    {
     "name": "stderr",
     "output_type": "stream",
     "text": [
      "/users/voleti.vikram/.local/lib/python3.6/site-packages/skimage/transform/_warps.py:84: UserWarning: The default mode, 'constant', will be changed to 'reflect' in skimage 0.15.\n",
      "  warn(\"The default mode, 'constant', will be changed to 'reflect' in \"\n"
     ]
    },
    {
     "data": {
      "text/plain": [
       "<matplotlib.image.AxesImage at 0x7f613c9452b0>"
      ]
     },
     "execution_count": 55,
     "metadata": {},
     "output_type": "execute_result"
    },
    {
     "data": {
      "image/png": "[encoded data removed]",
      "text/plain": [
       "<Figure size 432x288 with 1 Axes>"
      ]
     },
     "metadata": {},
     "output_type": "display_data"
    }
   ],
   "source": [
    "mouth = frame[mouth_rect_exp[1]:mouth_rect_exp[3], mouth_rect_exp[0]:mouth_rect_exp[2]]\n",
    "mouth = skimage.transform.resize(skimage.color.rgb2gray(mouth),\n",
    "                                 (syncnet_params.MOUTH_H, syncnet_params.MOUTH_W)) * 255.\n",
    "plt.imshow(mouth, cmap='gray')"
   ]
  },
  {
   "cell_type": "code",
   "execution_count": 56,
   "metadata": {},
   "outputs": [
    {
     "data": {
      "text/plain": [
       "239.06948281249996"
      ]
     },
     "execution_count": 56,
     "metadata": {},
     "output_type": "execute_result"
    }
   ],
   "source": [
    "mouth.max()"
   ]
  },
  {
   "cell_type": "code",
   "execution_count": null,
   "metadata": {},
   "outputs": [],
   "source": []
  },
  {
   "cell_type": "code",
   "execution_count": 129,
   "metadata": {},
   "outputs": [
    {
     "name": "stdout",
     "output_type": "stream",
     "text": [
      "[692, 184.0, 809.0, 301.0]\n",
      "[663, 155, 838, 330]\n"
     ]
    },
    {
     "name": "stderr",
     "output_type": "stream",
     "text": [
      "/users/voleti.vikram/.local/lib/python3.6/site-packages/skimage/transform/_warps.py:84: UserWarning: The default mode, 'constant', will be changed to 'reflect' in skimage 0.15.\n",
      "  warn(\"The default mode, 'constant', will be changed to 'reflect' in \"\n"
     ]
    },
    {
     "data": {
      "text/plain": [
       "<matplotlib.image.AxesImage at 0x7f65703fc518>"
      ]
     },
     "execution_count": 129,
     "metadata": {},
     "output_type": "execute_result"
    },
    {
     "data": {
      "image/png": "[encoded data removed]",
      "text/plain": [
       "<Figure size 432x288 with 1 Axes>"
      ]
     },
     "metadata": {},
     "output_type": "display_data"
    }
   ],
   "source": [
    "face_rect = utils.make_rect_shape_square([np.min(landmarks_in_frame[:, 0]), np.min(landmarks_in_frame[:, 1]),\n",
    "             np.max(landmarks_in_frame[:, 0]), np.max(landmarks_in_frame[:, 1])])\n",
    "\n",
    "# mouth_rect = utils.make_rect_shape_square([np.min(landmarks_in_frame[48:68, 0]), np.min(landmarks_in_frame[48:68, 1]),\n",
    "#               np.max(landmarks_in_frame[48:68, 0]), np.max(landmarks_in_frame[48:68, 1])])\n",
    "\n",
    "face_rect_exp = utils.expand_rect(face_rect, scale=1.5, frame_shape=(frame.shape[0], frame.shape[1]))\n",
    "\n",
    "face = frame[face_rect_exp[1]:face_rect_exp[3], face_rect_exp[0]:face_rect_exp[2]]\n",
    "face = np.round(skimage.transform.resize(face, (224, 224)) * 255.).astype('uint8')\n",
    "print(face_rect)\n",
    "print(face_rect_exp)\n",
    "plt.imshow(face)"
   ]
  },
  {
   "cell_type": "code",
   "execution_count": 130,
   "metadata": {},
   "outputs": [
    {
     "data": {
      "text/plain": [
       "255"
      ]
     },
     "execution_count": 130,
     "metadata": {},
     "output_type": "execute_result"
    }
   ],
   "source": [
    "face.max()"
   ]
  },
  {
   "cell_type": "code",
   "execution_count": 122,
   "metadata": {},
   "outputs": [
    {
     "data": {
      "text/plain": [
       "<matplotlib.image.AxesImage at 0x7f65700ef518>"
      ]
     },
     "execution_count": 122,
     "metadata": {},
     "output_type": "execute_result"
    },
    {
     "data": {
      "image/png": "[encoded data removed]",
      "text/plain": [
       "<Figure size 432x288 with 1 Axes>"
      ]
     },
     "metadata": {},
     "output_type": "display_data"
    }
   ],
   "source": [
    "plt.imshow(frame)"
   ]
  },
  {
   "cell_type": "code",
   "execution_count": null,
   "metadata": {},
   "outputs": [],
   "source": []
  },
  {
   "cell_type": "code",
   "execution_count": 131,
   "metadata": {},
   "outputs": [],
   "source": [
    "def convert_video_fps(video_file_name, required_fps=25, converted_video_file_name='/tmp/video.mp4'):\n",
    "    cmd = \"ffmpeg -i {} -r {} -y {}\".format(video_file_name, str(int(required_fps)), converted_video_file_name)\n",
    "    os.system(cmd)\n",
    "\n",
    "\n",
    "def make_video_for_syncnet_pytorch(video_file_name):\n",
    "\n",
    "    # Video\n",
    "    video_frames = imageio.get_reader(video_file_name)\n",
    "    video_fps = video_frames.get_meta_data()['fps']\n",
    "\n",
    "    # Landmarks\n",
    "    landmarks_in_frames, frames_with_no_landmarks = read_video_landmarks(video_file_name=video_file_name, video_fps=video_fps)\n",
    "\n",
    "    faces = []\n",
    "\n",
    "    # Make video of faces for syncnet\n",
    "    for frame, landmarks_in_frame, no_face_in_frame in tqdm.tqdm(zip(video_frames, landmarks_in_frames, frames_with_no_landmarks),\n",
    "                                                                 total=len(video_frames)):\n",
    "\n",
    "        # face_rect\n",
    "        face_rect = utils.make_rect_shape_square([np.min(landmarks_in_frame[:, 0]), np.min(landmarks_in_frame[:, 1]),\n",
    "                                                  np.max(landmarks_in_frame[:, 0]), np.max(landmarks_in_frame[:, 1])])\n",
    "        # Expand face_rect\n",
    "        face_rect_exp = utils.expand_rect(face_rect, scale=1.5, frame_shape=(frame.shape[0], frame.shape[1]))\n",
    "\n",
    "        # Extract face\n",
    "        face = frame[face_rect_exp[1]:face_rect_exp[3], face_rect_exp[0]:face_rect_exp[2]]\n",
    "        face = np.round(skimage.transform.resize(face, (224, 224)) * 255.).astype('uint8')\n",
    "        faces.append(face)\n",
    "    \n",
    "    # Convert video's audio to .wav file\n",
    "    audio_out = '/tmp/audio.wav'\n",
    "    command = \"ffmpeg -y -loglevel error -i {} -acodec pcm_s16le -ac 1 -ar 16000 {}\".format(video_file_name, audio_out)\n",
    "    os.system(command)\n",
    "\n",
    "    # Save video\n",
    "    output_file_name = os.path.splitext(video_file_name)[0] + '_faces' + os.path.splitext(video_file_name)[-1]\n",
    "    print(\"Saving faces video as\", output_file_name)\n",
    "    utils.save_new_video_frames_with_target_audio_as_mp4(faces, video_fps, audio_out,\n",
    "                                                         output_file_name=output_file_name, verbose=verbose)\n",
    "\n",
    "    if video_fps != syncnet_params.SYNCNET_VIDEO_FPS:\n",
    "        print(\"Converting fps from\", video_fps, \"to\", syncnet_params.SYNCNET_VIDEO_FPS)\n",
    "        convert_video_fps(output_file_name, required_fps=syncnet_params.SYNCNET_VIDEO_FPS, converted_video_file_name=output_file_name)\n"
   ]
  },
  {
   "cell_type": "code",
   "execution_count": null,
   "metadata": {},
   "outputs": [],
   "source": []
  },
  {
   "cell_type": "code",
   "execution_count": null,
   "metadata": {},
   "outputs": [],
   "source": []
  },
  {
   "cell_type": "code",
   "execution_count": null,
   "metadata": {},
   "outputs": [],
   "source": []
  },
  {
   "cell_type": "code",
   "execution_count": null,
   "metadata": {},
   "outputs": [],
   "source": []
  },
  {
   "cell_type": "code",
   "execution_count": null,
   "metadata": {},
   "outputs": [],
   "source": []
  },
  {
   "cell_type": "code",
   "execution_count": null,
   "metadata": {},
   "outputs": [],
   "source": []
  }
 ],
 "metadata": {
  "kernelspec": {
   "display_name": "Python 3",
   "language": "python",
   "name": "python3"
  },
  "language_info": {
   "codemirror_mode": {
    "name": "ipython",
    "version": 3
   },
   "file_extension": ".py",
   "mimetype": "text/x-python",
   "name": "python",
   "nbconvert_exporter": "python",
   "pygments_lexer": "ipython3",
   "version": "3.6.4"
  }
 },
 "nbformat": 4,
 "nbformat_minor": 2
}
